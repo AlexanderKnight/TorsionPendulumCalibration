{
 "cells": [
  {
   "cell_type": "code",
   "execution_count": 1,
   "metadata": {
    "collapsed": false
   },
   "outputs": [],
   "source": [
    "import ipywidgets as ip\n",
    "import matplotlib.pyplot as plt\n",
    "%matplotlib inline\n",
    "plt.rcParams['figure.figsize'] = (20.0, 8.0)\n",
    "import numpy as np\n",
    "import uncertainties as u\n",
    "from uncertainties import unumpy\n",
    "import math as math"
   ]
  },
  {
   "cell_type": "markdown",
   "metadata": {},
   "source": [
    "### Apparatus\n",
    "Our aparatus consists of three orthogonal Helmholtz coils that are capable of negating earth's magnetic field. In the center of the coils we suspend a magnet on the end of a long small diameter torsion fiber. To measure the rotation of the magnet, we shine a laser onto a mirror attached to the magnet and catch the reflected light with a optical sensor \n",
    "\n",
    "\n",
    "The field in the center of the coils is relatively uniform and we are able to control the X and Y coils with $\\pm$ 3 nano Tesla and the Z coil to $\\pm$ SOME NUMBER. The torsion pendulum is most sensitive to torques allong the axis of the torson fiber so with some work, we can measure the horizontal component of the earth's magnetic field.\n",
    "\n",
    "\n",
    "\n",
    " From this we will build a magnetic field sensor.\n",
    "\n",
    "#### Earth's field\n",
    "First off, the earth's field is aproximately $57mT$ most of it is in the z direction. the horizontal component of the field is around $22 mT$ so our adustment coils need to at least be capable of negating this strength field. The power supplies can provide almost an amp of current for the x and y coil. In *current space* the capibilities of our aparatus are:\n",
    "\n",
    "#### Frequency of ocilation\n",
    "As the magnetic field goes to zero the magnet on the torsion fiber's frequency of occilation about its equilibrium position will drop to a constant minimum (that of the torsional torque only). To measure the frequency of occilations we use a mirror attached to the pendulum. a laser and a 4 quadrent ccd sensor give us angle crossings of $\\pm .33E-3 degrees$ with a timing acuracy of $\\pm 1e-3$ seconds\n",
    "the draw backs to this meathod are that by measuring the angle at one position only we can only obtain one component of the magnetic field directly. However, the perpendictular component can be infered from the shape of the frequncy vs field plot or it could be measured directly by adding a second mirror to the aparatus. \n"
   ]
  },
  {
   "cell_type": "markdown",
   "metadata": {},
   "source": [
    "### Field Space\n",
    "An important innital calibration of the aparatus is to get the field in the center of the coils as a function of current through each helmholtz coil. This allows us to define the coil's influence in field space. Field space is the clearest way to develop our model for mesuring the earth's magnetic field.\n",
    "\n",
    "<img src=\"fieldSpacePlots/1.png\",width=500>\n",
    "\n",
    "The white region represents the field values that are accessable to our coils in the x and y directions. The origin is at zero *applied* field. Any external field will move the origin in absolute field space. Assuming we have correctly configued our coils to work in the direction which opposes the earth's field, and with enough strength to overcome it, the absolute zero field value will lie somewhere in the range of our coils. We will theoretically be able to reach zero field to within the smallest adustment of our coil power supplies. \n",
    "\n",
    "<img src=\"fieldSpacePlots/2.png\",width=500>\n",
    "\n",
    "Here we label the zero field point arbatrarally within the range of the coils. The vector $\\vec B_{earth}$ represents the total external field (this is what we hope to measure). Adding togethor $\\vec B_{earth}$ and $\\vec B_{applied}$ gives the total field in the apparatus $\\vec B$, with which the magnetic dipole of the torsion pedulum will interact. \n"
   ]
  },
  {
   "cell_type": "markdown",
   "metadata": {},
   "source": [
    "### Balancing the Torques\n",
    "There are two primary torques that act on the pendulum: torque on the magnetic dipole from the total magnetic field $\\vec B$, and torque from the torsion fiber. \n",
    "\n",
    "Magnetic dipole torque is: $\\vec \\tau = \\vec \\mu \\times \\vec B$. Where $\\vec \\mu$ is the magnetic dipole moment and $\\vec  B$ is the total magnetic field. \n",
    "\n",
    "Torsion Fiber tourque is: $\\vec \\tau = -\\kappa \\phi$. Where $\\kappa$ is the torsion constant and $\\phi$ is the displcemnt angle from the torsional zero.\n",
    "\n",
    "<img src=\"fieldSpacePlots/3.png\",width=500>\n",
    "\n",
    "When the pendulum is in an equilibrium position, the sum of these two torques is zero.\n",
    "$$\\vec \\mu \\times \\vec B -\\kappa \\phi = 0$$\n",
    "\n",
    "We can expand the cross product to:\n",
    "$$\\mu B sin(\\theta) -\\kappa \\phi = 0$$\n",
    "\n",
    "$B sin(\\theta)$ the component of the magnetic field $\\vec B$ perpendictular to the magnetic dipole moment $\\vec \\mu$\n",
    "so $B sin(\\theta) = B_{\\bot}$\n",
    "\n",
    "<img src=\"fieldSpacePlots/4.png\",width=500>\n",
    "\n",
    "$$\\mu B_{\\bot} -\\kappa \\phi = 0$$\n",
    "\n",
    "This is interesting because as long as the perpedicular componet of $\\vec B$ stays constant, the torque on the dipole will reamin the same and $\\vec B$ is free to change in the diretion parralell to $\\vec \\mu$ with no effect.\n",
    "\n",
    "For simplicity, Let us assume that the dirction of $\\vec \\mu$ is alligned with the optical zero of the aparatus. We can keep the angle of $\\vec \\mu$ fixed as long as we keep $B_{\\bot}$ constant. Here is the line that contains all of the valid field values for which we are on the optical zero. \n",
    "\n",
    "<img src=\"fieldSpacePlots/5.png\",width=500> "
   ]
  },
  {
   "cell_type": "markdown",
   "metadata": {
    "collapsed": false
   },
   "source": [
    "If there was no torsional torque, the optical zero line would perce the zero field point. However, with a torsional torque we can only say that we are on a straght line appoach near the zero field point.\n",
    "\n",
    "\n",
    "\n",
    "however the \n"
   ]
  },
  {
   "cell_type": "markdown",
   "metadata": {},
   "source": [
    "Our powersupplies can reach any of the values inside the rectangle. \n",
    "To convert to field space we multiply the currents by the field gains. \n",
    "### calibration predifines\n",
    "xFieldGain = u.ufloat(42.24e-6, 0.08e-6) # T/A\n",
    "\n",
    "yFieldGain = u.ufloat(45.99e-6, 0.09e-6) # T/A\n",
    "\n",
    "zFieldGain = u.ufloat(132.16e-6, 0.08e-6) # T/A"
   ]
  },
  {
   "cell_type": "code",
   "execution_count": null,
   "metadata": {
    "collapsed": false
   },
   "outputs": [],
   "source": [
    "# calibration predifines\n",
    "xFieldGain = u.ufloat(42.24e-6, 0.08e-6) # T/A\n",
    "yFieldGain = u.ufloat(45.99e-6, 0.09e-6) # T/A\n",
    "zFieldGain = u.ufloat(132.16e-6, 0.08e-6) # T/A\n",
    "\n",
    "xMaxField = xFieldGain * maxCurrent\n",
    "yMaxField = yFieldGain * maxCurrent\n",
    "zMaxField = zFieldGain * maxCurrent\n",
    "\n",
    "print('x = %s\\ny = %s\\nz = %s' % (xMaxField, yMaxField, zMaxField))\n",
    "\n",
    "# plot the rectangle\n"
   ]
  },
  {
   "cell_type": "code",
   "execution_count": null,
   "metadata": {
    "collapsed": true
   },
   "outputs": [],
   "source": []
  }
 ],
 "metadata": {
  "celltoolbar": "Raw Cell Format",
  "kernelspec": {
   "display_name": "Python 3",
   "language": "python",
   "name": "python3"
  },
  "language_info": {
   "codemirror_mode": {
    "name": "ipython",
    "version": 3
   },
   "file_extension": ".py",
   "mimetype": "text/x-python",
   "name": "python",
   "nbconvert_exporter": "python",
   "pygments_lexer": "ipython3",
   "version": "3.5.2"
  }
 },
 "nbformat": 4,
 "nbformat_minor": 0
}
