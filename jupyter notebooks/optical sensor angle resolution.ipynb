{
 "cells": [
  {
   "cell_type": "code",
   "execution_count": 1,
   "metadata": {
    "collapsed": true
   },
   "outputs": [],
   "source": [
    "import matplotlib.pyplot as plt\n",
    "%matplotlib inline\n",
    "plt.rcParams['figure.figsize'] = (10.0, 10.0)\n",
    "import numpy as np\n",
    "import uncertainties as u\n",
    "from uncertainties import unumpy\n",
    "import math as math"
   ]
  },
  {
   "cell_type": "code",
   "execution_count": 7,
   "metadata": {
    "collapsed": false
   },
   "outputs": [
    {
     "name": "stdout",
     "output_type": "stream",
     "text": [
      "[[ 2.         -3.82291055]\n",
      " [ 2.15       -3.81657648]\n",
      " [ 2.3        -3.80835819]\n",
      " [ 2.45       -3.79251575]\n",
      " [ 2.6        -3.75845885]\n",
      " [ 2.75       -3.61036062]\n",
      " [ 2.9        -3.56075621]\n",
      " [ 3.05       -3.35903955]\n",
      " [ 3.2        -2.96739173]\n",
      " [ 3.35       -2.23577952]\n",
      " [ 3.5        -1.14638615]\n",
      " [ 3.65        0.17027669]\n",
      " [ 3.8         1.50733662]\n",
      " [ 3.95        2.60397983]\n",
      " [ 4.1         3.27849245]\n",
      " [ 4.25        3.59508252]\n",
      " [ 4.4         3.70858645]\n",
      " [ 4.55        3.76102376]\n",
      " [ 4.7         3.79753923]\n",
      " [ 4.85        3.82359433]\n",
      " [ 5.          3.83648467]]\n"
     ]
    },
    {
     "data": {
      "text/plain": [
       "[<matplotlib.lines.Line2D at 0x147664426d8>]"
      ]
     },
     "execution_count": 7,
     "metadata": {},
     "output_type": "execute_result"
    },
    {
     "data": {
      "image/png": "[encoded data removed]",
      "text/plain": [
       "<matplotlib.figure.Figure at 0x147663f61d0>"
      ]
     },
     "metadata": {},
     "output_type": "display_data"
    }
   ],
   "source": [
    "data = np.genfromtxt('./../OpticalSensorCalibraton/voltsPerMillimeter07_22_16_13_01_21.txt', delimiter=', ')\n",
    "print(data)\n",
    "\n",
    "# add in the error\n",
    "# nah plot it first\n",
    "plt.plot(data[:,0],data[:,1],'o')"
   ]
  },
  {
   "cell_type": "code",
   "execution_count": 9,
   "metadata": {
    "collapsed": false
   },
   "outputs": [
    {
     "name": "stdout",
     "output_type": "stream",
     "text": [
      "8.84574254354\n"
     ]
    }
   ],
   "source": [
    "# need more data\n",
    "# 10 % 12\n",
    "\n",
    "voltsPerMillimeter = (data[10,1] - data[12, 1])/(data[10, 0] - data[12, 0])\n",
    "print(voltsPerMillimeter)"
   ]
  },
  {
   "cell_type": "code",
   "execution_count": null,
   "metadata": {
    "collapsed": true
   },
   "outputs": [],
   "source": [
    "# virtual pendulum\n",
    "\n",
    "\n",
    " "
   ]
  }
 ],
 "metadata": {
  "kernelspec": {
   "display_name": "Python 3",
   "language": "python",
   "name": "python3"
  },
  "language_info": {
   "codemirror_mode": {
    "name": "ipython",
    "version": 3
   },
   "file_extension": ".py",
   "mimetype": "text/x-python",
   "name": "python",
   "nbconvert_exporter": "python",
   "pygments_lexer": "ipython3",
   "version": "3.5.2"
  }
 },
 "nbformat": 4,
 "nbformat_minor": 0
}
