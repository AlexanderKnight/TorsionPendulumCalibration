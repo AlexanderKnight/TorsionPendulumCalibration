{
 "cells": [
  {
   "cell_type": "code",
   "execution_count": 22,
   "metadata": {
    "collapsed": false
   },
   "outputs": [
    {
     "name": "stdout",
     "output_type": "stream",
     "text": [
      "float = 1.234\n"
     ]
    }
   ],
   "source": [
    "print('float = %5.3f' % 1.234499)"
   ]
  },
  {
   "cell_type": "code",
   "execution_count": 26,
   "metadata": {
    "collapsed": false
   },
   "outputs": [],
   "source": [
    "import matplotlib.pyplot as plt\n",
    "%matplotlib inline\n",
    "\n",
    "import numpy as np\n",
    "import uncertainties as u\n",
    "from uncertainties import unumpy"
   ]
  },
  {
   "cell_type": "code",
   "execution_count": 27,
   "metadata": {
    "collapsed": false
   },
   "outputs": [
    {
     "data": {
      "image/png": "[encoded data removed]",
      "text/plain": [
       "<matplotlib.figure.Figure at 0x19ce3f89ac8>"
      ]
     },
     "metadata": {},
     "output_type": "display_data"
    }
   ],
   "source": [
    "# plot a rectangle: args are: [(bottom left corner cords), width, height, args]\n",
    "rectangle = plt.Rectangle((.2, .15), .5, .7, facecolor = \"#aaaffa\") # not sure what the\n",
    "# matplotlib color naming sceme is, but aaaffa is nice!\n",
    "\n",
    "plt.gca().add_patch(rectangle) # add the recatngle to a new figure\n",
    "plt.show() # show the plot"
   ]
  },
  {
   "cell_type": "code",
   "execution_count": 42,
   "metadata": {
    "collapsed": false
   },
   "outputs": [
    {
     "name": "stdout",
     "output_type": "stream",
     "text": [
      "[[ 380.6  990.     0.   419.1]\n",
      " [ 990.   410.6  380.1    0. ]\n",
      " [ 293.   354.    68.     0. ]]\n"
     ]
    }
   ],
   "source": [
    "# ok great we can make a rectangle....\n",
    "# time to talk about fieldspace\n",
    "# first here are the calibration values for the coils:\n",
    "xFieldGain = u.ufloat(42.24e-6, 0.08e-6) # T/A\n",
    "yFieldGain = u.ufloat(45.99e-6, 0.09e-6) # T/A\n",
    "zFieldGain = u.ufloat(132.16e-6, 0.08e-6) # T/A\n",
    "\n",
    "# and here are the field values for each of the 4 laser crossings (one for each mirror)\n",
    "crossings = np.genfromtxt('crossingData1.csv', delimiter=',', skip_header=True, usecols=(1,2,3,4))\n",
    "print(crossings)\n",
    "#each row represents a coil's data (x,y,z)\n",
    "# each column represents a point in 3d field space at which we found optical 0"
   ]
  },
  {
   "cell_type": "code",
   "execution_count": null,
   "metadata": {
    "collapsed": true
   },
   "outputs": [],
   "source": []
  },
  {
   "cell_type": "code",
   "execution_count": null,
   "metadata": {
    "collapsed": true
   },
   "outputs": [],
   "source": []
  },
  {
   "cell_type": "code",
   "execution_count": null,
   "metadata": {
    "collapsed": true
   },
   "outputs": [],
   "source": []
  },
  {
   "cell_type": "markdown",
   "metadata": {
    "collapsed": true
   },
   "source": []
  },
  {
   "cell_type": "code",
   "execution_count": null,
   "metadata": {
    "collapsed": true
   },
   "outputs": [],
   "source": []
  },
  {
   "cell_type": "code",
   "execution_count": null,
   "metadata": {
    "collapsed": true
   },
   "outputs": [],
   "source": []
  }
 ],
 "metadata": {
  "kernelspec": {
   "display_name": "Python 3",
   "language": "python",
   "name": "python3"
  },
  "language_info": {
   "codemirror_mode": {
    "name": "ipython",
    "version": 3
   },
   "file_extension": ".py",
   "mimetype": "text/x-python",
   "name": "python",
   "nbconvert_exporter": "python",
   "pygments_lexer": "ipython3",
   "version": "3.5.1"
  }
 },
 "nbformat": 4,
 "nbformat_minor": 0
}
