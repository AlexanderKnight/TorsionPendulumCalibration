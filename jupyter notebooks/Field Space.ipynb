{
 "cells": [
  {
   "cell_type": "code",
   "execution_count": 58,
   "metadata": {
    "collapsed": false
   },
   "outputs": [
    {
     "name": "stdout",
     "output_type": "stream",
     "text": [
      "float = 1.234\n"
     ]
    }
   ],
   "source": [
    "print('float = %5.3f' % 1.234499)"
   ]
  },
  {
   "cell_type": "code",
   "execution_count": 81,
   "metadata": {
    "collapsed": false
   },
   "outputs": [],
   "source": [
    "import matplotlib.pyplot as plt\n",
    "%matplotlib inline\n",
    "plt.rcParams['figure.figsize'] = (8.0, 8.0)\n",
    "import numpy as np\n",
    "import uncertainties as u\n",
    "from uncertainties import unumpy"
   ]
  },
  {
   "cell_type": "code",
   "execution_count": 82,
   "metadata": {
    "collapsed": false
   },
   "outputs": [
    {
     "data": {
      "image/png": "[encoded data removed]",
      "text/plain": [
       "<matplotlib.figure.Figure at 0x19ce4bed5c0>"
      ]
     },
     "metadata": {},
     "output_type": "display_data"
    }
   ],
   "source": [
    "# plot a rectangle: args are: [(bottom left corner cords), width, height, args]\n",
    "rectangle = plt.Rectangle((.2, .15), .5, .7, facecolor = \"#aaaffa\") # not sure what the\n",
    "# matplotlib color naming sceme is, but aaaffa is nice!\n",
    "\n",
    "plt.gca().add_patch(rectangle) # add the recatngle to a new figure\n",
    "plt.show() # show the plot"
   ]
  },
  {
   "cell_type": "code",
   "execution_count": 83,
   "metadata": {
    "collapsed": false
   },
   "outputs": [
    {
     "name": "stdout",
     "output_type": "stream",
     "text": [
      "[[-380.6 -990.     0.  -419.1]\n",
      " [-990.  -410.6 -380.1    0. ]\n",
      " [ 293.   354.    68.     0. ]]\n"
     ]
    }
   ],
   "source": [
    "# ok great we can make a rectangle....\n",
    "# time to talk about fieldspace\n",
    "# first here are the calibration values for the coils:\n",
    "xFieldGain = u.ufloat(42.24e-6, 0.08e-6) # T/A\n",
    "yFieldGain = u.ufloat(45.99e-6, 0.09e-6) # T/A\n",
    "zFieldGain = u.ufloat(132.16e-6, 0.08e-6) # T/A\n",
    "\n",
    "# and here are the field values for each of the 4 laser crossings (one for each mirror)\n",
    "crossings = np.genfromtxt('crossingData1.csv', delimiter=',', skip_header=True, usecols=(1,2,3,4))\n",
    "print(crossings)\n",
    "#each row represents a coil's data (x,y,z)\n",
    "# each column represents a point in 3d field space at which we found optical 0\n",
    "# turn crossings from miliamps to amps\n",
    "crossings *= 1e-3\n",
    "# turn crossings from amps to field with the calibration data:\n",
    "crossings[0] *= xFieldGain.n # first row of crossings is the x data multiply by the field gain to get tesla\n",
    "crossings[1] *= yFieldGain.n # do the same for the y and z values\n",
    "crossings[2] *= zFieldGain.n"
   ]
  },
  {
   "cell_type": "code",
   "execution_count": 84,
   "metadata": {
    "collapsed": false
   },
   "outputs": [
    {
     "data": {
      "text/plain": [
       "[<matplotlib.lines.Line2D at 0x19ce4c7a128>]"
      ]
     },
     "execution_count": 84,
     "metadata": {},
     "output_type": "execute_result"
    },
    {
     "data": {
      "image/png": "[encoded data removed]",
      "text/plain": [
       "<matplotlib.figure.Figure at 0x19ce4bf3470>"
      ]
     },
     "metadata": {},
     "output_type": "display_data"
    }
   ],
   "source": [
    "# plot the crossings in current space: (for now just use the x and y)\n",
    "# the pairs are on the ends and in the middle\n",
    "pair_one = crossings[0:2,1:3] # first grab the middle\n",
    "pair_two = crossings[0:2,::3] # grab the whole row but step by 3 to skip the middle two.\n",
    "#print(pair_one, '\\n \\n', pair_two)\n",
    "plt.plot(pair_one[0,0],pair_one[1,0], 'o')\n",
    "plt.plot(pair_one[0,1],pair_one[1,1], 'o')\n",
    "plt.plot(pair_two[0,0],pair_two[1,0], 'o')\n",
    "plt.plot(pair_two[0,1],pair_two[1,1], 'o')"
   ]
  },
  {
   "cell_type": "code",
   "execution_count": 85,
   "metadata": {
    "collapsed": false
   },
   "outputs": [
    {
     "data": {
      "image/png": "[encoded data removed]",
      "text/plain": [
       "<matplotlib.figure.Figure at 0x19ce4bdbf60>"
      ]
     },
     "metadata": {},
     "output_type": "display_data"
    }
   ],
   "source": [
    "# now plot the lines so we can seen th crossings:\n",
    "plt.plot(pair_one[0],pair_one[1])\n",
    "plt.plot(pair_two[0], pair_two[1])\n",
    "plt.show()"
   ]
  },
  {
   "cell_type": "code",
   "execution_count": 86,
   "metadata": {
    "collapsed": false
   },
   "outputs": [
    {
     "name": "stdout",
     "output_type": "stream",
     "text": [
      "-29.812325559 -27.9971590909\n"
     ]
    }
   ],
   "source": [
    "# find the slope of a pair\n",
    "def slope(pair):\n",
    "    m = ((pair[1,0]-pair[1,1])/(pair[0,0]-pair[0,1]))\n",
    "    return(m)\n",
    "# test for orthgonality. The slope of one line should be -1 devided by the slope of the other line. \n",
    "# it's possible that misllignments in the z axis could cause an orthogonality problem \n",
    "# (as could imperfections in the mirror's geometry).\n",
    "print(-1/slope(pair_one), slope(pair_two))"
   ]
  },
  {
   "cell_type": "code",
   "execution_count": 106,
   "metadata": {
    "collapsed": false
   },
   "outputs": [
    {
     "name": "stdout",
     "output_type": "stream",
     "text": [
      "(-1.7057969382810161e-05, -1.805297742160767e-05)\n",
      "Field magnitude in Tesla = 2.483716E-05\n"
     ]
    }
   ],
   "source": [
    "# calculate the intercepts:\n",
    "def intercept(pair):\n",
    "    m = slope(pair)\n",
    "    b = pair[1,0] - (m * pair[0,0])\n",
    "    return b\n",
    "\n",
    "# now find the point of intersection!\n",
    "def intersection(pair1, pair2):\n",
    "    # this has terrible effency with all the function calls\n",
    "    x = (intercept(pair1) - intercept(pair2))/(slope(pair2) - slope(pair1)) \n",
    "    y = slope(pair1)*x + intercept(pair1)\n",
    "    return(x, y)\n",
    "\n",
    "print(intersection(pair_one, pair_two))\n",
    "#find the magnitude off the field \n",
    "x, y = intersection(pair_one, pair_two)\n",
    "magnitude= (x**2+y**2)**.5\n",
    "print('Field magnitude in Tesla = %E' % magnitude)"
   ]
  },
  {
   "cell_type": "code",
   "execution_count": null,
   "metadata": {
    "collapsed": true
   },
   "outputs": [],
   "source": []
  }
 ],
 "metadata": {
  "kernelspec": {
   "display_name": "Python 3",
   "language": "python",
   "name": "python3"
  },
  "language_info": {
   "codemirror_mode": {
    "name": "ipython",
    "version": 3
   },
   "file_extension": ".py",
   "mimetype": "text/x-python",
   "name": "python",
   "nbconvert_exporter": "python",
   "pygments_lexer": "ipython3",
   "version": "3.5.1"
  }
 },
 "nbformat": 4,
 "nbformat_minor": 0
}
