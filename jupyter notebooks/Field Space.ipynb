{
 "cells": [
  {
   "cell_type": "code",
   "execution_count": 58,
   "metadata": {
    "collapsed": false
   },
   "outputs": [
    {
     "name": "stdout",
     "output_type": "stream",
     "text": [
      "float = 1.234\n"
     ]
    }
   ],
   "source": [
    "print('float = %5.3f' % 1.234499)"
   ]
  },
  {
   "cell_type": "code",
   "execution_count": 59,
   "metadata": {
    "collapsed": false
   },
   "outputs": [],
   "source": [
    "import matplotlib.pyplot as plt\n",
    "%matplotlib inline\n",
    "\n",
    "import numpy as np\n",
    "import uncertainties as u\n",
    "from uncertainties import unumpy"
   ]
  },
  {
   "cell_type": "code",
   "execution_count": 60,
   "metadata": {
    "collapsed": false
   },
   "outputs": [
    {
     "data": {
      "image/png": "[encoded data removed]",
      "text/plain": [
       "<matplotlib.figure.Figure at 0x19ce402d908>"
      ]
     },
     "metadata": {},
     "output_type": "display_data"
    }
   ],
   "source": [
    "# plot a rectangle: args are: [(bottom left corner cords), width, height, args]\n",
    "rectangle = plt.Rectangle((.2, .15), .5, .7, facecolor = \"#aaaffa\") # not sure what the\n",
    "# matplotlib color naming sceme is, but aaaffa is nice!\n",
    "\n",
    "plt.gca().add_patch(rectangle) # add the recatngle to a new figure\n",
    "plt.show() # show the plot"
   ]
  },
  {
   "cell_type": "code",
   "execution_count": 61,
   "metadata": {
    "collapsed": false
   },
   "outputs": [
    {
     "name": "stdout",
     "output_type": "stream",
     "text": [
      "[[-380.6 -990.     0.  -419.1]\n",
      " [-990.  -410.6 -380.1    0. ]\n",
      " [ 293.   354.    68.     0. ]]\n"
     ]
    }
   ],
   "source": [
    "# ok great we can make a rectangle....\n",
    "# time to talk about fieldspace\n",
    "# first here are the calibration values for the coils:\n",
    "xFieldGain = u.ufloat(42.24e-6, 0.08e-6) # T/A\n",
    "yFieldGain = u.ufloat(45.99e-6, 0.09e-6) # T/A\n",
    "zFieldGain = u.ufloat(132.16e-6, 0.08e-6) # T/A\n",
    "\n",
    "# and here are the field values for each of the 4 laser crossings (one for each mirror)\n",
    "crossings = np.genfromtxt('crossingData1.csv', delimiter=',', skip_header=True, usecols=(1,2,3,4))\n",
    "print(crossings)\n",
    "#each row represents a coil's data (x,y,z)\n",
    "# each column represents a point in 3d field space at which we found optical 0\n",
    "# turn crossings from miliamps to amps\n",
    "crossings *= 1e-3\n",
    "# turn crossings from amps to field with the calibration data:\n",
    "crossings[0] *= xFieldGain.n # first row of crossings is the x data multiply by the field gain to get tesla\n",
    "crossings[1] *= yFieldGain.n # do the same for the y and z values\n",
    "crossings[2] *= zFieldGain.n"
   ]
  },
  {
   "cell_type": "code",
   "execution_count": 62,
   "metadata": {
    "collapsed": false
   },
   "outputs": [
    {
     "data": {
      "text/plain": [
       "[<matplotlib.lines.Line2D at 0x19ce3ffa8d0>]"
      ]
     },
     "execution_count": 62,
     "metadata": {},
     "output_type": "execute_result"
    },
    {
     "data": {
      "image/png": "[encoded data removed]",
      "text/plain": [
       "<matplotlib.figure.Figure at 0x19ce3ffaa90>"
      ]
     },
     "metadata": {},
     "output_type": "display_data"
    }
   ],
   "source": [
    "# plot the crossings in current space: (for now just use the x and y)\n",
    "pair_one = crossings[0:2,::2] # also skip every other one\n",
    "pair_two = crossings[0:2,1::2] # start one in then skip every other\n",
    "#print(pair_one, '\\n \\n', pair_two)\n",
    "plt.plot(pair_one[0],pair_one[1], 'o')\n",
    "plt.plot(pair_two[0],pair_two[1], 'o')"
   ]
  },
  {
   "cell_type": "markdown",
   "metadata": {
    "collapsed": true
   },
   "source": []
  },
  {
   "cell_type": "code",
   "execution_count": null,
   "metadata": {
    "collapsed": true
   },
   "outputs": [],
   "source": []
  }
 ],
 "metadata": {
  "kernelspec": {
   "display_name": "Python 3",
   "language": "python",
   "name": "python3"
  },
  "language_info": {
   "codemirror_mode": {
    "name": "ipython",
    "version": 3
   },
   "file_extension": ".py",
   "mimetype": "text/x-python",
   "name": "python",
   "nbconvert_exporter": "python",
   "pygments_lexer": "ipython3",
   "version": "3.5.1"
  }
 },
 "nbformat": 4,
 "nbformat_minor": 0
}
