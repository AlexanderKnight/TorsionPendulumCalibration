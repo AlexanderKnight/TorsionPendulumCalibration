{
 "cells": [
  {
   "cell_type": "code",
   "execution_count": 2,
   "metadata": {
    "collapsed": false
   },
   "outputs": [],
   "source": [
    "import numpy as np\n",
    "import matplotlib.pyplot as plt\n",
    "import scipy as sp\n"
   ]
  },
  {
   "cell_type": "markdown",
   "metadata": {},
   "source": [
    "This is a program to calculate the moment of inertia for the magnetic torsion pendulum, with a thick aluminum space, two magnets and two mirrors. The spacer will have two holes drilled into the top and bottom, which may be filled with copper screws. This program will give both with and without the screws."
   ]
  },
  {
   "cell_type": "markdown",
   "metadata": {},
   "source": [
    "## General Equations\n",
    "\n",
    "##### Moment of inertia for a disk or cylinder rotating on edge through center of mass:\n",
    "\n",
    "$$I = \\frac{1}{4}MR^2 + \\frac{1}{12}ML^2$$ where $M$ is the total mass, $R$ is the radius, and $L$ is the length or thickness.\n",
    "\n",
    "##### Moment of inertia of a rod rotating through center axis \n",
    "\n",
    "$$I = \\frac{1}{2} Mr^2$$\n",
    "\n",
    "where $M$ is the mass, and $r$ is the radius of the rod.\n",
    "\n",
    "##### Parallel axis theorem\n",
    "\n",
    "$$I_{||-axis} = I_{cm} + Md^2$$\n",
    "\n",
    "Where $I_{cm}$ is the moment of inertia for the center of mass, $M$ is the mass of the object, and $d$ is the distance between the axis of rotation and the center of mass."
   ]
  },
  {
   "cell_type": "markdown",
   "metadata": {},
   "source": [
    "<img src=\"moment_of_inertia_drawing.png\">"
   ]
  },
  {
   "cell_type": "markdown",
   "metadata": {},
   "source": [
    "Each magnet and mirror has 3 properties: mass, radius and thickness. The spacer is made of aluminum, while the screws are copper, so a volume/density calcuation makes more sense."
   ]
  },
  {
   "cell_type": "code",
   "execution_count": 22,
   "metadata": {
    "collapsed": true
   },
   "outputs": [],
   "source": [
    "def disk(diskDict):\n",
    "    return 0.25*diskDict['mass']*diskDict['radius']**2 \\\n",
    "            + (1/12)*diskDict['mass']*diskDict['length']**2 \\\n",
    "            + diskDict['mass']*diskDict['distance']**2\n",
    "def Spacer(spacer, topPlug=True, bottomPlug=True):\n",
    "    #original densities:\n",
    "    #aluminum = 2.70 g/cm^3\n",
    "    #copper = 8.96 g/cm^3\n",
    "    #denAl = 270 # kg/m^3\n",
    "    #denCu = 896 # kg/m^3\n",
    "    denAl = 2.70\n",
    "    denCu = 8.96\n",
    "    I = 0.25*np.pi*spacer['R']**4*spacer['L']*denAl + (1/12)*np.pi*spacer['R']**2*spacer['L']**3*denAl - np.pi*spacer['r']**4*spacer['x']*denAl\n",
    "    if topPlug and bottomPlug:\n",
    "        I += np.pi*spacer['r']**4*spacer['y']*denCu\n",
    "    elif topPlug or bottomPlug:\n",
    "        I += 0.5*np.pi*spacer['r']**4*spacer['y']*denCu\n",
    "    return I\n"
   ]
  },
  {
   "cell_type": "code",
   "execution_count": 21,
   "metadata": {
    "collapsed": false
   },
   "outputs": [
    {
     "name": "stdout",
     "output_type": "stream",
     "text": [
      "396.0766742926977\n"
     ]
    }
   ],
   "source": [
    "mirrorA = {'mass': 10, 'radius':1, 'length':1}\n",
    "mirrorB = {'mass': 10, 'radius':1, 'length':1}\n",
    "magnetA = {'mass': 10, 'radius':1, 'length':1}\n",
    "magnetB = {'mass': 10, 'radius':1, 'length':1}\n",
    "spacer = {'R' : 1, 'L' : 1, 'r' : 0.01, 'y' : 0.1, 'x' : 0.08}\n",
    "\n",
    "mirrorA['distance'] = 0.5*mirrorA['length'] + magnetA['length'] + 0.5*spacer['L']\n",
    "magnetA['distance'] = 0.5*magnetA['length'] + 0.5*spacer['L']\n",
    "\n",
    "mirrorB['distance'] = 0.5*mirrorB['length'] + magnetB['length'] + 0.5*spacer['L']\n",
    "magnetB['distance'] = 0.5*magnetB['length'] + 0.5*spacer['L']\n",
    "\n",
    "mirrorA['MOI'] = disk(mirrorA)\n",
    "mirrorB['MOI'] = disk(mirrorB)\n",
    "magnetA['MOI'] = disk(magnetA)\n",
    "magnetB['MOI'] = disk(magnetB)\n",
    "\n",
    "spacer['MOI'] = Spacer(spacer)\n",
    "TotalMOI = mirrorA['MOI'] + mirrorB['MOI'] + magnetA['MOI'] + magnetB['MOI'] + spacer['MOI']\n",
    "print(TotalMOI)"
   ]
  },
  {
   "cell_type": "code",
   "execution_count": 11,
   "metadata": {
    "collapsed": false
   },
   "outputs": [
    {
     "data": {
      "text/plain": [
       "10"
      ]
     },
     "execution_count": 11,
     "metadata": {},
     "output_type": "execute_result"
    }
   ],
   "source": [
    "mirrorA['mass']"
   ]
  },
  {
   "cell_type": "code",
   "execution_count": 12,
   "metadata": {
    "collapsed": true
   },
   "outputs": [],
   "source": [
    "mirrorA['distance'] = 0.5*mirrorA['thickness']+magnetA['thickness']+0.5*spacer['L']"
   ]
  },
  {
   "cell_type": "code",
   "execution_count": 13,
   "metadata": {
    "collapsed": false
   },
   "outputs": [
    {
     "data": {
      "text/plain": [
       "1.5"
      ]
     },
     "execution_count": 13,
     "metadata": {},
     "output_type": "execute_result"
    }
   ],
   "source": [
    "mirrorA['distance']"
   ]
  },
  {
   "cell_type": "code",
   "execution_count": null,
   "metadata": {
    "collapsed": true
   },
   "outputs": [],
   "source": []
  }
 ],
 "metadata": {
  "anaconda-cloud": {},
  "kernelspec": {
   "display_name": "Python [Root]",
   "language": "python",
   "name": "Python [Root]"
  },
  "language_info": {
   "codemirror_mode": {
    "name": "ipython",
    "version": 3
   },
   "file_extension": ".py",
   "mimetype": "text/x-python",
   "name": "python",
   "nbconvert_exporter": "python",
   "pygments_lexer": "ipython3",
   "version": "3.5.1"
  }
 },
 "nbformat": 4,
 "nbformat_minor": 0
}
